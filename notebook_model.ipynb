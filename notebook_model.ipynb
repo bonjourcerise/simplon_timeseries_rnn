{
 "cells": [
  {
   "cell_type": "markdown",
   "id": "664f5958",
   "metadata": {},
   "source": [
    "# Développez un outil de prévision de la consommation d'énergie"
   ]
  },
  {
   "cell_type": "markdown",
   "id": "c45a404b",
   "metadata": {},
   "source": [
    "Context: Measurements of electric power consumption in one household with a one-minute sampling rate over a period of almost 4 years. Different electrical quantities and some sub-metering values are available.\n",
    "This archive contains 2075259 measurements gathered between December 2006 and November 2010 (47 months).\n",
    "\n",
    "Notes:\n",
    "1.(globalactivepower*1000/60 - submetering1 - submetering2 - submetering3) represents the active energy consumed every minute (in watt hour) in the household by electrical equipment not measured in sub-meterings 1, 2 and 3.\n",
    "2.The dataset contains some missing values in the measurements (nearly 1,25% of the rows). All calendar timestamps are present in the dataset but for some timestamps, the measurement values are missing: a missing value is represented by the absence of value between two consecutive semi-colon attribute separators. For instance, the dataset shows missing values on April 28, 2007.\n",
    "\n",
    "Attribute Information:\n",
    "\n",
    "1.date: Date in format dd/mm/yyyy<br>\n",
    "2.time: time in format hh:mm:ss<br>\n",
    "3.globalactivepower: household global minute-averaged active power (in kilowatt)<br>\n",
    "4.globalreactivepower: household global minute-averaged reactive power (in kilowatt)<br>\n",
    "5.voltage: minute-averaged voltage (in volt)<br>\n",
    "6.global_intensity: household global minute-averaged current intensity (in ampere)<br>\n",
    "7.submetering1: energy sub-metering No. 1 (in watt-hour of active energy). It corresponds to the kitchen, containing mainly a dishwasher, an oven and a microwave (hot plates are not electric but gas powered).<br>\n",
    "8.submetering2: energy sub-metering No. 2 (in watt-hour of active energy). It corresponds to the laundry room, containing a washing-machine, a tumble-drier, a refrigerator and a light.<br>\n",
    "9.submetering3: energy sub-metering No. 3 (in watt-hour of active energy). It corresponds to an electric water-heater and an air-conditioner."
   ]
  },
  {
   "cell_type": "code",
   "execution_count": 3,
   "id": "91f06632",
   "metadata": {},
   "outputs": [],
   "source": [
    "import pandas as pd\n",
    "import numpy as np\n",
    "import matplotlib.pyplot as plt\n",
    "import warnings\n",
    "warnings.simplefilter('ignore')\n",
    "from datetime import datetime\n",
    "import seaborn as sns\n",
    "\n",
    "import tensorflow as tf\n",
    "\n",
    "from keras.models import Sequential\n",
    "from keras.layers import Dense\n",
    "from keras.callbacks import EarlyStopping\n",
    "from keras.layers import LSTM\n",
    "from keras.layers import Dropout\n",
    "from keras.layers import SimpleRNN\n",
    "\n",
    "from sklearn.preprocessing import MinMaxScaler\n",
    "\n",
    "from sklearn.metrics import mean_absolute_error\n",
    "from sklearn.metrics import mean_squared_error\n",
    "\n",
    "import math"
   ]
  },
  {
   "cell_type": "markdown",
   "id": "4e6e9431",
   "metadata": {},
   "source": [
    "# Preprocessing"
   ]
  },
  {
   "cell_type": "code",
   "execution_count": 10,
   "id": "59d670f6",
   "metadata": {},
   "outputs": [
    {
     "data": {
      "text/plain": [
       "(2075259, 7)"
      ]
     },
     "execution_count": 10,
     "metadata": {},
     "output_type": "execute_result"
    }
   ],
   "source": [
    "data.shape"
   ]
  },
  {
   "cell_type": "code",
   "execution_count": 11,
   "id": "5d831708",
   "metadata": {},
   "outputs": [],
   "source": [
    "# drop NaN in data\n",
    "data.dropna(inplace=True)"
   ]
  },
  {
   "cell_type": "code",
   "execution_count": 12,
   "id": "65cc1b46",
   "metadata": {},
   "outputs": [
    {
     "data": {
      "text/plain": [
       "(2049280, 7)"
      ]
     },
     "execution_count": 12,
     "metadata": {},
     "output_type": "execute_result"
    }
   ],
   "source": [
    "data.shape"
   ]
  },
  {
   "cell_type": "code",
   "execution_count": 13,
   "id": "5085807e",
   "metadata": {},
   "outputs": [],
   "source": [
    "# resample data by day\n",
    "data_d=data.resample('D').sum()"
   ]
  },
  {
   "cell_type": "code",
   "execution_count": 14,
   "id": "5235f9a8",
   "metadata": {},
   "outputs": [
    {
     "name": "stdout",
     "output_type": "stream",
     "text": [
      "<class 'pandas.core.frame.DataFrame'>\n",
      "DatetimeIndex: 1442 entries, 2006-12-16 to 2010-11-26\n",
      "Freq: D\n",
      "Data columns (total 7 columns):\n",
      " #   Column                 Non-Null Count  Dtype  \n",
      "---  ------                 --------------  -----  \n",
      " 0   Global_active_power    1442 non-null   float64\n",
      " 1   Global_reactive_power  1442 non-null   float64\n",
      " 2   Voltage                1442 non-null   float64\n",
      " 3   Global_intensity       1442 non-null   float64\n",
      " 4   Sub_metering_1         1442 non-null   float64\n",
      " 5   Sub_metering_2         1442 non-null   float64\n",
      " 6   Sub_metering_3         1442 non-null   float64\n",
      "dtypes: float64(7)\n",
      "memory usage: 90.1 KB\n"
     ]
    }
   ],
   "source": [
    "data_d.info()"
   ]
  },
  {
   "cell_type": "code",
   "execution_count": 15,
   "id": "069a2c65",
   "metadata": {},
   "outputs": [
    {
     "data": {
      "text/html": [
       "<div>\n",
       "<style scoped>\n",
       "    .dataframe tbody tr th:only-of-type {\n",
       "        vertical-align: middle;\n",
       "    }\n",
       "\n",
       "    .dataframe tbody tr th {\n",
       "        vertical-align: top;\n",
       "    }\n",
       "\n",
       "    .dataframe thead th {\n",
       "        text-align: right;\n",
       "    }\n",
       "</style>\n",
       "<table border=\"1\" class=\"dataframe\">\n",
       "  <thead>\n",
       "    <tr style=\"text-align: right;\">\n",
       "      <th></th>\n",
       "      <th>count</th>\n",
       "      <th>mean</th>\n",
       "      <th>std</th>\n",
       "      <th>min</th>\n",
       "      <th>25%</th>\n",
       "      <th>50%</th>\n",
       "      <th>75%</th>\n",
       "      <th>max</th>\n",
       "    </tr>\n",
       "  </thead>\n",
       "  <tbody>\n",
       "    <tr>\n",
       "      <th>Global_active_power</th>\n",
       "      <td>1442.0</td>\n",
       "      <td>1551.334856</td>\n",
       "      <td>617.297117</td>\n",
       "      <td>0.0</td>\n",
       "      <td>1161.1985</td>\n",
       "      <td>1534.778</td>\n",
       "      <td>1889.8595</td>\n",
       "      <td>4773.386</td>\n",
       "    </tr>\n",
       "    <tr>\n",
       "      <th>Global_reactive_power</th>\n",
       "      <td>1442.0</td>\n",
       "      <td>175.815258</td>\n",
       "      <td>51.998109</td>\n",
       "      <td>0.0</td>\n",
       "      <td>140.9115</td>\n",
       "      <td>170.290</td>\n",
       "      <td>202.3725</td>\n",
       "      <td>417.834</td>\n",
       "    </tr>\n",
       "    <tr>\n",
       "      <th>Voltage</th>\n",
       "      <td>1442.0</td>\n",
       "      <td>342266.507732</td>\n",
       "      <td>36707.752471</td>\n",
       "      <td>0.0</td>\n",
       "      <td>345621.8425</td>\n",
       "      <td>346934.710</td>\n",
       "      <td>348251.5275</td>\n",
       "      <td>356306.410</td>\n",
       "    </tr>\n",
       "    <tr>\n",
       "      <th>Global_intensity</th>\n",
       "      <td>1442.0</td>\n",
       "      <td>6576.681415</td>\n",
       "      <td>2559.505974</td>\n",
       "      <td>0.0</td>\n",
       "      <td>4988.8000</td>\n",
       "      <td>6510.300</td>\n",
       "      <td>7953.3500</td>\n",
       "      <td>20200.400</td>\n",
       "    </tr>\n",
       "    <tr>\n",
       "      <th>Sub_metering_1</th>\n",
       "      <td>1442.0</td>\n",
       "      <td>1594.407074</td>\n",
       "      <td>1587.840580</td>\n",
       "      <td>0.0</td>\n",
       "      <td>555.5000</td>\n",
       "      <td>1109.000</td>\n",
       "      <td>2196.7500</td>\n",
       "      <td>11178.000</td>\n",
       "    </tr>\n",
       "    <tr>\n",
       "      <th>Sub_metering_2</th>\n",
       "      <td>1442.0</td>\n",
       "      <td>1845.375173</td>\n",
       "      <td>2089.590342</td>\n",
       "      <td>0.0</td>\n",
       "      <td>424.2500</td>\n",
       "      <td>678.500</td>\n",
       "      <td>2712.7500</td>\n",
       "      <td>12109.000</td>\n",
       "    </tr>\n",
       "    <tr>\n",
       "      <th>Sub_metering_3</th>\n",
       "      <td>1442.0</td>\n",
       "      <td>9178.340499</td>\n",
       "      <td>3787.898093</td>\n",
       "      <td>0.0</td>\n",
       "      <td>6604.2500</td>\n",
       "      <td>9251.000</td>\n",
       "      <td>11708.5000</td>\n",
       "      <td>23743.000</td>\n",
       "    </tr>\n",
       "  </tbody>\n",
       "</table>\n",
       "</div>"
      ],
      "text/plain": [
       "                        count           mean           std  min          25%  \\\n",
       "Global_active_power    1442.0    1551.334856    617.297117  0.0    1161.1985   \n",
       "Global_reactive_power  1442.0     175.815258     51.998109  0.0     140.9115   \n",
       "Voltage                1442.0  342266.507732  36707.752471  0.0  345621.8425   \n",
       "Global_intensity       1442.0    6576.681415   2559.505974  0.0    4988.8000   \n",
       "Sub_metering_1         1442.0    1594.407074   1587.840580  0.0     555.5000   \n",
       "Sub_metering_2         1442.0    1845.375173   2089.590342  0.0     424.2500   \n",
       "Sub_metering_3         1442.0    9178.340499   3787.898093  0.0    6604.2500   \n",
       "\n",
       "                              50%          75%         max  \n",
       "Global_active_power      1534.778    1889.8595    4773.386  \n",
       "Global_reactive_power     170.290     202.3725     417.834  \n",
       "Voltage                346934.710  348251.5275  356306.410  \n",
       "Global_intensity         6510.300    7953.3500   20200.400  \n",
       "Sub_metering_1           1109.000    2196.7500   11178.000  \n",
       "Sub_metering_2            678.500    2712.7500   12109.000  \n",
       "Sub_metering_3           9251.000   11708.5000   23743.000  "
      ]
     },
     "execution_count": 15,
     "metadata": {},
     "output_type": "execute_result"
    }
   ],
   "source": [
    "data_d.describe().T"
   ]
  },
  {
   "cell_type": "code",
   "execution_count": 9,
   "id": "87668641",
   "metadata": {},
   "outputs": [],
   "source": [
    "# convert all columns object to float\n",
    "#for i in data.select_dtypes(object):\n",
    "#    data[i] = pd.to_numeric(data[i],errors = 'coerce')"
   ]
  },
  {
   "cell_type": "code",
   "execution_count": 16,
   "id": "f9b0f162",
   "metadata": {},
   "outputs": [
    {
     "data": {
      "text/plain": [
       "(1442, 7)"
      ]
     },
     "execution_count": 16,
     "metadata": {},
     "output_type": "execute_result"
    }
   ],
   "source": [
    "data_d.shape"
   ]
  },
  {
   "cell_type": "code",
   "execution_count": 17,
   "id": "fcaf1048",
   "metadata": {},
   "outputs": [
    {
     "name": "stdout",
     "output_type": "stream",
     "text": [
      "(1442, 7) (1442,)\n"
     ]
    }
   ],
   "source": [
    "# define X / Y\n",
    "# \"data\" and \"targets\" arguments are the same which means inputs and outputs all came from the same time-series\n",
    "dataset_x = data_d.copy()\n",
    "dataset_y = data_d['Global_active_power']\n",
    "\n",
    "print(dataset_x.shape, dataset_y.shape)"
   ]
  },
  {
   "cell_type": "code",
   "execution_count": 18,
   "id": "9ea38252",
   "metadata": {},
   "outputs": [
    {
     "name": "stdout",
     "output_type": "stream",
     "text": [
      "Train size: 721\n",
      "Validation size: 360\n",
      "Test size: 361\n"
     ]
    }
   ],
   "source": [
    "# split data : train / validation / test\n",
    "train_samples = int(0.5 * len(data_d))\n",
    "val_samples = int(0.25 * len(data_d))\n",
    "test_samples = len(data_d) - train_samples - val_samples\n",
    "\n",
    "print(\"Train size:\", train_samples)\n",
    "print(\"Validation size:\", val_samples)\n",
    "print(\"Test size:\", test_samples)"
   ]
  },
  {
   "cell_type": "code",
   "execution_count": 19,
   "id": "8180f6fd",
   "metadata": {},
   "outputs": [
    {
     "data": {
      "text/html": [
       "<div>\n",
       "<style scoped>\n",
       "    .dataframe tbody tr th:only-of-type {\n",
       "        vertical-align: middle;\n",
       "    }\n",
       "\n",
       "    .dataframe tbody tr th {\n",
       "        vertical-align: top;\n",
       "    }\n",
       "\n",
       "    .dataframe thead th {\n",
       "        text-align: right;\n",
       "    }\n",
       "</style>\n",
       "<table border=\"1\" class=\"dataframe\">\n",
       "  <thead>\n",
       "    <tr style=\"text-align: right;\">\n",
       "      <th></th>\n",
       "      <th>Global_active_power</th>\n",
       "      <th>Global_reactive_power</th>\n",
       "      <th>Voltage</th>\n",
       "      <th>Global_intensity</th>\n",
       "      <th>Sub_metering_1</th>\n",
       "      <th>Sub_metering_2</th>\n",
       "      <th>Sub_metering_3</th>\n",
       "    </tr>\n",
       "    <tr>\n",
       "      <th>Datetime</th>\n",
       "      <th></th>\n",
       "      <th></th>\n",
       "      <th></th>\n",
       "      <th></th>\n",
       "      <th></th>\n",
       "      <th></th>\n",
       "      <th></th>\n",
       "    </tr>\n",
       "  </thead>\n",
       "  <tbody>\n",
       "    <tr>\n",
       "      <th>2006-12-16</th>\n",
       "      <td>-0.547070</td>\n",
       "      <td>-2.898016</td>\n",
       "      <td>-11.383077</td>\n",
       "      <td>-0.548840</td>\n",
       "      <td>-1.031362</td>\n",
       "      <td>-0.699703</td>\n",
       "      <td>-0.984828</td>\n",
       "    </tr>\n",
       "    <tr>\n",
       "      <th>2006-12-17</th>\n",
       "      <td>2.642748</td>\n",
       "      <td>1.209889</td>\n",
       "      <td>0.086665</td>\n",
       "      <td>2.689897</td>\n",
       "      <td>0.214094</td>\n",
       "      <td>0.920997</td>\n",
       "      <td>1.351801</td>\n",
       "    </tr>\n",
       "    <tr>\n",
       "      <th>2006-12-18</th>\n",
       "      <td>0.907464</td>\n",
       "      <td>-0.170577</td>\n",
       "      <td>0.161636</td>\n",
       "      <td>0.879917</td>\n",
       "      <td>-0.380147</td>\n",
       "      <td>0.223931</td>\n",
       "      <td>1.539786</td>\n",
       "    </tr>\n",
       "    <tr>\n",
       "      <th>2006-12-19</th>\n",
       "      <td>0.121254</td>\n",
       "      <td>-0.403829</td>\n",
       "      <td>0.211912</td>\n",
       "      <td>0.123376</td>\n",
       "      <td>-0.517374</td>\n",
       "      <td>2.441099</td>\n",
       "      <td>-0.631904</td>\n",
       "    </tr>\n",
       "    <tr>\n",
       "      <th>2006-12-20</th>\n",
       "      <td>0.939522</td>\n",
       "      <td>-0.187646</td>\n",
       "      <td>0.232134</td>\n",
       "      <td>0.903036</td>\n",
       "      <td>-1.031362</td>\n",
       "      <td>0.235950</td>\n",
       "      <td>1.552281</td>\n",
       "    </tr>\n",
       "  </tbody>\n",
       "</table>\n",
       "</div>"
      ],
      "text/plain": [
       "            Global_active_power  Global_reactive_power    Voltage  \\\n",
       "Datetime                                                            \n",
       "2006-12-16            -0.547070              -2.898016 -11.383077   \n",
       "2006-12-17             2.642748               1.209889   0.086665   \n",
       "2006-12-18             0.907464              -0.170577   0.161636   \n",
       "2006-12-19             0.121254              -0.403829   0.211912   \n",
       "2006-12-20             0.939522              -0.187646   0.232134   \n",
       "\n",
       "            Global_intensity  Sub_metering_1  Sub_metering_2  Sub_metering_3  \n",
       "Datetime                                                                      \n",
       "2006-12-16         -0.548840       -1.031362       -0.699703       -0.984828  \n",
       "2006-12-17          2.689897        0.214094        0.920997        1.351801  \n",
       "2006-12-18          0.879917       -0.380147        0.223931        1.539786  \n",
       "2006-12-19          0.123376       -0.517374        2.441099       -0.631904  \n",
       "2006-12-20          0.903036       -1.031362        0.235950        1.552281  "
      ]
     },
     "execution_count": 19,
     "metadata": {},
     "output_type": "execute_result"
    }
   ],
   "source": [
    "# normalize data\n",
    "data_ok = data_d.copy()\n",
    "\n",
    "mean = data_ok[:train_samples].mean(axis=0)\n",
    "data_ok -= mean\n",
    "std = data_ok[:train_samples].std(axis=0)\n",
    "data_ok /= std\n",
    "\n",
    "data_ok.head()"
   ]
  },
  {
   "cell_type": "markdown",
   "id": "d4584c31",
   "metadata": {},
   "source": [
    "# Time series generator / LSTM"
   ]
  },
  {
   "cell_type": "markdown",
   "id": "a19c452e",
   "metadata": {},
   "source": [
    "**Time Series Generator**"
   ]
  },
  {
   "cell_type": "code",
   "execution_count": 20,
   "id": "83dd101c",
   "metadata": {},
   "outputs": [],
   "source": [
    "from tensorflow.keras.preprocessing.sequence import TimeseriesGenerator"
   ]
  },
  {
   "cell_type": "code",
   "execution_count": 21,
   "id": "f319b07d",
   "metadata": {},
   "outputs": [],
   "source": [
    "# time series generator parameters\n",
    "sampling_rate = 1\n",
    "look_back = 7\n",
    "stride = 1\n",
    "batch_size = 50\n",
    "shuffle = False "
   ]
  },
  {
   "cell_type": "code",
   "execution_count": 22,
   "id": "7eb175e9",
   "metadata": {},
   "outputs": [],
   "source": [
    "train_generator=TimeseriesGenerator(data_ok,\n",
    "                                    data_ok['Global_active_power'],\n",
    "                                    length=look_back,\n",
    "                                    sampling_rate=sampling_rate,\n",
    "                                    stride=stride,\n",
    "                                    batch_size=batch_size,\n",
    "                                    shuffle = shuffle)\n",
    "\n",
    "val_generator=TimeseriesGenerator(data_ok,\n",
    "                                   data_ok['Global_active_power'],\n",
    "                                   length=look_back,\n",
    "                                   sampling_rate=sampling_rate,\n",
    "                                   stride=stride,\n",
    "                                   batch_size=batch_size,\n",
    "                                   shuffle = shuffle)\n",
    "\n",
    "test_generator=TimeseriesGenerator(data_ok,\n",
    "                                   data_ok['Global_active_power'],\n",
    "                                   length=look_back,\n",
    "                                   sampling_rate=sampling_rate,\n",
    "                                   stride=stride,\n",
    "                                   batch_size=batch_size,\n",
    "                                   shuffle = shuffle)"
   ]
  },
  {
   "cell_type": "code",
   "execution_count": 23,
   "id": "5f5c0c2c",
   "metadata": {},
   "outputs": [
    {
     "name": "stdout",
     "output_type": "stream",
     "text": [
      "(50, 7, 7) (50,)\n"
     ]
    }
   ],
   "source": [
    "# check if the time series generator makes 3D shape\n",
    "X_train, y_train  = train_generator[0]\n",
    "\n",
    "print(X_train.shape, y_train.shape)"
   ]
  },
  {
   "cell_type": "code",
   "execution_count": 24,
   "id": "e7268285",
   "metadata": {},
   "outputs": [
    {
     "name": "stdout",
     "output_type": "stream",
     "text": [
      "(50, 7, 7) (50,)\n"
     ]
    }
   ],
   "source": [
    "X_test, y_test  = test_generator[0]\n",
    "\n",
    "print(X_test.shape, y_test.shape)"
   ]
  },
  {
   "cell_type": "code",
   "execution_count": 25,
   "id": "427bb1a0",
   "metadata": {},
   "outputs": [
    {
     "data": {
      "text/plain": [
       "7"
      ]
     },
     "execution_count": 25,
     "metadata": {},
     "output_type": "execute_result"
    }
   ],
   "source": [
    "look_back"
   ]
  },
  {
   "cell_type": "code",
   "execution_count": 26,
   "id": "54649f10",
   "metadata": {},
   "outputs": [
    {
     "data": {
      "text/plain": [
       "7"
      ]
     },
     "execution_count": 26,
     "metadata": {},
     "output_type": "execute_result"
    }
   ],
   "source": [
    "num_features = X_train.shape[-1]\n",
    "num_features"
   ]
  },
  {
   "cell_type": "markdown",
   "id": "88369f13",
   "metadata": {},
   "source": [
    "**Model LSTM**"
   ]
  },
  {
   "cell_type": "code",
   "execution_count": 27,
   "id": "a3d351d8",
   "metadata": {},
   "outputs": [],
   "source": [
    "model = Sequential()\n",
    "\n",
    "model.add(LSTM(64,input_shape=(look_back, num_features),activation='tanh'))\n",
    "model.add(Dropout(0.2))\n",
    "model.add(Dense(1, activation='linear'))\n",
    "\n",
    "model.compile(loss='mean_squared_error', optimizer='adam')"
   ]
  },
  {
   "cell_type": "code",
   "execution_count": 28,
   "id": "ef4973d5",
   "metadata": {},
   "outputs": [
    {
     "name": "stdout",
     "output_type": "stream",
     "text": [
      "Model: \"sequential\"\n",
      "_________________________________________________________________\n",
      " Layer (type)                Output Shape              Param #   \n",
      "=================================================================\n",
      " lstm (LSTM)                 (None, 64)                18432     \n",
      "                                                                 \n",
      " dropout (Dropout)           (None, 64)                0         \n",
      "                                                                 \n",
      " dense (Dense)               (None, 1)                 65        \n",
      "                                                                 \n",
      "=================================================================\n",
      "Total params: 18,497\n",
      "Trainable params: 18,497\n",
      "Non-trainable params: 0\n",
      "_________________________________________________________________\n"
     ]
    }
   ],
   "source": [
    "model.summary()"
   ]
  },
  {
   "cell_type": "code",
   "execution_count": 29,
   "id": "5282dd6b",
   "metadata": {},
   "outputs": [
    {
     "name": "stdout",
     "output_type": "stream",
     "text": [
      "Epoch 1/10\n",
      "29/29 [==============================] - 2s 23ms/step - loss: 0.5087 - val_loss: 0.4612\n",
      "Epoch 2/10\n",
      "29/29 [==============================] - 0s 12ms/step - loss: 0.4492 - val_loss: 0.4351\n",
      "Epoch 3/10\n",
      "29/29 [==============================] - 0s 13ms/step - loss: 0.4366 - val_loss: 0.4202\n",
      "Epoch 4/10\n",
      "29/29 [==============================] - 0s 14ms/step - loss: 0.4245 - val_loss: 0.4128\n",
      "Epoch 5/10\n",
      "29/29 [==============================] - 0s 12ms/step - loss: 0.4279 - val_loss: 0.4064\n",
      "Epoch 6/10\n",
      "29/29 [==============================] - 0s 13ms/step - loss: 0.4128 - val_loss: 0.4003\n",
      "Epoch 7/10\n",
      "29/29 [==============================] - 0s 13ms/step - loss: 0.4128 - val_loss: 0.3954\n",
      "Epoch 8/10\n",
      "29/29 [==============================] - 0s 13ms/step - loss: 0.4027 - val_loss: 0.3908\n",
      "Epoch 9/10\n",
      "29/29 [==============================] - 0s 13ms/step - loss: 0.4015 - val_loss: 0.3852\n",
      "Epoch 10/10\n",
      "29/29 [==============================] - 0s 14ms/step - loss: 0.3952 - val_loss: 0.3801\n"
     ]
    }
   ],
   "source": [
    "history = model.fit(train_generator,epochs=10, validation_data=val_generator)"
   ]
  },
  {
   "cell_type": "code",
   "execution_count": 31,
   "id": "4e9d025e",
   "metadata": {},
   "outputs": [],
   "source": [
    "#model.save('model')"
   ]
  },
  {
   "cell_type": "code",
   "execution_count": 32,
   "id": "51ff3c17",
   "metadata": {},
   "outputs": [],
   "source": [
    "#from keras.models import load_model\n",
    "#mymodel = load_model('model.h')"
   ]
  },
  {
   "cell_type": "code",
   "execution_count": 81,
   "id": "c687ad2b",
   "metadata": {},
   "outputs": [
    {
     "data": {
      "image/png": "[encoded data removed]",
      "text/plain": [
       "<Figure size 576x288 with 1 Axes>"
      ]
     },
     "metadata": {
      "needs_background": "light"
     },
     "output_type": "display_data"
    }
   ],
   "source": [
    "plt.figure(figsize=(8,4))\n",
    "plt.plot(history.history['loss'], label='Train Loss')\n",
    "plt.plot(history.history['val_loss'], label='Test Loss')\n",
    "plt.title('model loss')\n",
    "plt.ylabel('loss')\n",
    "plt.xlabel('epochs')\n",
    "plt.legend(loc='upper right')\n",
    "plt.show();"
   ]
  },
  {
   "cell_type": "code",
   "execution_count": 82,
   "id": "3958d1e0",
   "metadata": {},
   "outputs": [
    {
     "data": {
      "text/plain": [
       "0.38242068886756897"
      ]
     },
     "execution_count": 82,
     "metadata": {},
     "output_type": "execute_result"
    }
   ],
   "source": [
    "model.evaluate_generator(test_generator)"
   ]
  }
 ],
 "metadata": {
  "kernelspec": {
   "display_name": "Python 3 (ipykernel)",
   "language": "python",
   "name": "python3"
  },
  "language_info": {
   "codemirror_mode": {
    "name": "ipython",
    "version": 3
   },
   "file_extension": ".py",
   "mimetype": "text/x-python",
   "name": "python",
   "nbconvert_exporter": "python",
   "pygments_lexer": "ipython3",
   "version": "3.9.7"
  }
 },
 "nbformat": 4,
 "nbformat_minor": 5
}
